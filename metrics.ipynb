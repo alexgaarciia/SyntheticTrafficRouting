{
 "cells": [
  {
   "cell_type": "markdown",
   "metadata": {},
   "source": [
    "## Load real and synthetic data"
   ]
  },
  {
   "cell_type": "code",
   "execution_count": null,
   "metadata": {},
   "outputs": [],
   "source": [
    "import pandas as pd\n",
    "real_data = pd.read_csv(\"real_data.csv\")\n",
    "synthetic_data = pd.read_csv(\"synthetic_data.csv\")"
   ]
  },
  {
   "cell_type": "markdown",
   "metadata": {},
   "source": [
    "## Obtain mean and std for every unique pair (source-destination)"
   ]
  },
  {
   "cell_type": "code",
   "execution_count": null,
   "metadata": {},
   "outputs": [],
   "source": [
    "real_stats = real_data.groupby(['source', 'target'])['demand_value'].agg(['mean', 'std']).reset_index()\n",
    "synthetic_stats = synthetic_data.groupby(['source', 'target'])['demand_value'].agg(['mean', 'std']).reset_index()"
   ]
  },
  {
   "cell_type": "code",
   "execution_count": null,
   "metadata": {},
   "outputs": [],
   "source": [
    "# Find common pairs between real and generated data\n",
    "common_pairs = real_stats.merge(synthetic_stats, on=['source', 'target'], suffixes=('_real', '_synthetic'))\n",
    "common_pairs['mean_diff'] = (common_pairs['mean_real'] - common_pairs['mean_synthetic']).abs()\n",
    "common_pairs['std_diff'] = (common_pairs['std_real'] - common_pairs['std_synthetic']).abs()\n",
    "common_pairs"
   ]
  }
 ],
 "metadata": {
  "kernelspec": {
   "display_name": "Python 3",
   "language": "python",
   "name": "python3"
  },
  "language_info": {
   "codemirror_mode": {
    "name": "ipython",
    "version": 3
   },
   "file_extension": ".py",
   "mimetype": "text/x-python",
   "name": "python",
   "nbconvert_exporter": "python",
   "pygments_lexer": "ipython3",
   "version": "3.11.9"
  }
 },
 "nbformat": 4,
 "nbformat_minor": 2
}
