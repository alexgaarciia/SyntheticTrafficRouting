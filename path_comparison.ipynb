{
 "cells": [
  {
   "cell_type": "markdown",
   "metadata": {},
   "source": [
    "<a href=\"https://colab.research.google.com/github/alexgaarciia/SyntheticTrafficRouting/blob/main/path_comparison.ipynb\" target=\"_parent\"><img src=\"https://colab.research.google.com/assets/colab-badge.svg\" alt=\"Open In Colab\"/></a>"
   ]
  },
  {
   "cell_type": "markdown",
   "metadata": {},
   "source": [
    "## Imports"
   ]
  },
  {
   "cell_type": "code",
   "execution_count": 67,
   "metadata": {},
   "outputs": [
    {
     "name": "stdout",
     "output_type": "stream",
     "text": [
      "Not in Google Colab, skipping repository clone.\n"
     ]
    }
   ],
   "source": [
    "# Check if running in Google Colab\n",
    "try:\n",
    "    import google.colab\n",
    "    IN_COLAB = True\n",
    "except ImportError:\n",
    "    IN_COLAB = False\n",
    "\n",
    "# If in Google Colab, clone the repository\n",
    "if IN_COLAB:\n",
    "    !git clone https://github.com/alexgaarciia/SyntheticTrafficRouting.git\n",
    "    import os\n",
    "    os.chdir('SyntheticTrafficRouting/')\n",
    "    print(\"Repository cloned!\")\n",
    "else:\n",
    "    print(\"Not in Google Colab, skipping repository clone.\")"
   ]
  },
  {
   "cell_type": "code",
   "execution_count": 68,
   "metadata": {},
   "outputs": [],
   "source": [
    "import pandas as pd\n",
    "import networkx as nx\n",
    "import seaborn as sns\n",
    "import matplotlib.pyplot as plt\n",
    "from functions import rescale_demand"
   ]
  },
  {
   "cell_type": "markdown",
   "metadata": {},
   "source": [
    "## Load datasets"
   ]
  },
  {
   "cell_type": "code",
   "execution_count": 69,
   "metadata": {},
   "outputs": [],
   "source": [
    "combined_data = pd.read_csv(\"real_data.csv\", sep=\",\")\n",
    "synthetic_data_sdv = pd.read_csv(\"synthetic_data_sdv.csv\", sep=\",\")\n",
    "synthetic_data_gan = pd.read_csv(\"synthetic_data_gan.csv\", sep=\",\")"
   ]
  },
  {
   "cell_type": "markdown",
   "metadata": {},
   "source": [
    "## Rescale demand values"
   ]
  },
  {
   "cell_type": "code",
   "execution_count": 70,
   "metadata": {},
   "outputs": [],
   "source": [
    "# Mbits/s to Gbits/s\n",
    "combined_data[\"demand_value\"] = combined_data[\"demand_value\"]/1000\n",
    "synthetic_data_gan[\"demand_value\"] = synthetic_data_gan[\"demand_value\"]/1000\n",
    "synthetic_data_sdv[\"demand_value\"] = synthetic_data_sdv[\"demand_value\"]/1000\n",
    "\n",
    "# Scale datasets to reflect actual traffic demand\n",
    "growth_factor = (1 + 0.45) ** (2025 - 2004)\n",
    "combined_data = rescale_demand(combined_data, growth_factor)\n",
    "synthetic_data_gan = rescale_demand(synthetic_data_gan, growth_factor)\n",
    "synthetic_data_sdv = rescale_demand(synthetic_data_sdv, growth_factor)"
   ]
  },
  {
   "cell_type": "markdown",
   "metadata": {},
   "source": [
    "## Sum Demand Values for Each Source-Target Pair"
   ]
  },
  {
   "cell_type": "code",
   "execution_count": 71,
   "metadata": {},
   "outputs": [],
   "source": [
    "# Sum demand values for each source-target pair\n",
    "sum_demand_real = combined_data.groupby(['source', 'target'], as_index=False)['demand_value'].sum()\n",
    "sum_demand_gan = synthetic_data_gan.groupby(['source', 'target'], as_index=False)['demand_value'].sum()\n",
    "sum_demand_sdv = synthetic_data_sdv.groupby(['source', 'target'], as_index=False)['demand_value'].sum()"
   ]
  },
  {
   "cell_type": "code",
   "execution_count": 72,
   "metadata": {},
   "outputs": [],
   "source": [
    "# Filter out rows where source equals target\n",
    "sum_demand_gan = sum_demand_gan[sum_demand_gan[\"source\"] != sum_demand_gan[\"target\"]]\n",
    "sum_demand_sdv = sum_demand_sdv[sum_demand_sdv[\"source\"] != sum_demand_sdv[\"target\"]]"
   ]
  },
  {
   "cell_type": "markdown",
   "metadata": {},
   "source": [
    "## Build graph "
   ]
  },
  {
   "cell_type": "code",
   "execution_count": 73,
   "metadata": {},
   "outputs": [],
   "source": [
    "def create_graph(data):\n",
    "    G = nx.Graph()\n",
    "    for index, row in data.iterrows():\n",
    "        G.add_edge(row['source'], row['target'], weight=row['demand_value'])\n",
    "    return G"
   ]
  },
  {
   "cell_type": "code",
   "execution_count": 74,
   "metadata": {},
   "outputs": [],
   "source": [
    "def plot_graph(G):\n",
    "    # Define layout for the graph (spring layout for better spacing)\n",
    "    pos = nx.spring_layout(G, seed=42)\n",
    "\n",
    "    # Draw nodes and edges\n",
    "    plt.figure(figsize=(12, 8))\n",
    "    nx.draw_networkx_nodes(G, pos, node_size=500, node_color='skyblue', edgecolors='k')\n",
    "    nx.draw_networkx_edges(G, pos, width=1.5, alpha=0.7, edge_color='gray')\n",
    "\n",
    "    # Add labels for nodes\n",
    "    nx.draw_networkx_labels(G, pos, font_size=10, font_color='black')\n",
    "\n",
    "    # Add edge weights as labels\n",
    "    edge_labels = nx.get_edge_attributes(G, 'weight')\n",
    "    nx.draw_networkx_edge_labels(G, pos, edge_labels=edge_labels, font_size=8, font_color='red')\n",
    "\n",
    "    # Customize plot appearance\n",
    "    plt.title(\"Network Graph with Shortest Path Demand Values\", fontsize=16)\n",
    "    plt.axis('off')\n",
    "    plt.show()  \n",
    "    "
   ]
  },
  {
   "cell_type": "markdown",
   "metadata": {},
   "source": [
    "## Find the shortest path from a source to a destination"
   ]
  },
  {
   "cell_type": "code",
   "execution_count": 75,
   "metadata": {},
   "outputs": [],
   "source": [
    "def calculate_shortest_path_load(G, source, target):\n",
    "    # Find the shortest path using Dijkstra's algorithm (based on demand values)\n",
    "    path = nx.shortest_path(G, source=source, target=target, weight='weight')\n",
    "    total_load = sum(G[u][v]['weight'] for u, v in zip(path[:-1], path[1:]))\n",
    "    return path, total_load"
   ]
  },
  {
   "cell_type": "markdown",
   "metadata": {},
   "source": [
    "## Testing"
   ]
  },
  {
   "cell_type": "code",
   "execution_count": 76,
   "metadata": {},
   "outputs": [],
   "source": [
    "# Create graphs\n",
    "G_real = create_graph(sum_demand_real)\n",
    "G_gan = create_graph(sum_demand_gan)\n",
    "G_sdv = create_graph(sum_demand_sdv)"
   ]
  },
  {
   "cell_type": "code",
   "execution_count": 77,
   "metadata": {},
   "outputs": [],
   "source": [
    "# Define the \"From-To\" pairs\n",
    "from_to_pairs = [\n",
    "    (\"ATLAM5\", \"ATLAng\"),\n",
    "    (\"DNVRng\", \"WASHng\"),\n",
    "    (\"HSTNng\", \"NYCMng\"),\n",
    "    (\"IPLSng\", \"STTLng\"),\n",
    "    (\"KSCYng\", \"SNVAng\"),\n",
    "    (\"LOSAng\", \"ATLAng\"),\n",
    "]\n",
    "\n",
    "# Create an empty list to store results\n",
    "path_load_data = []\n",
    "\n",
    "# Calculate shortest paths and link loads for each pair and dataset type\n",
    "for source, target in from_to_pairs:\n",
    "    for graph_name, graph in [(\"Real Data\", G_real), (\"GAN Synthetic Data\", G_gan), (\"SDV Synthetic Data\", G_sdv)]:\n",
    "        try:\n",
    "            path, total_load = calculate_shortest_path_load(graph, source, target)\n",
    "            path_load_data.append({\n",
    "                \"Source-Destination Pair\": source + \"-\" + target,\n",
    "                \"Path\": \"-\".join(path),\n",
    "                \"Total Load\": total_load,\n",
    "                \"Dataset\": graph_name\n",
    "            })\n",
    "        except nx.NetworkXNoPath:\n",
    "            path_load_data.append({\n",
    "                \"Source-Destination Pair\": source + \"-\" + target,\n",
    "                \"Path\": \"No Path\",\n",
    "                \"Total Load\": None,\n",
    "                \"Dataset\": graph_name\n",
    "            })\n",
    "\n",
    "# Convert the list of dictionaries to a DataFrame\n",
    "path_load_df = pd.DataFrame(path_load_data)"
   ]
  },
  {
   "cell_type": "code",
   "execution_count": 78,
   "metadata": {},
   "outputs": [
    {
     "name": "stdout",
     "output_type": "stream",
     "text": [
      "   Source-Destination Pair                         Path   Total Load  \\\n",
      "0            ATLAM5-ATLAng                ATLAM5-ATLAng    71.409142   \n",
      "1            ATLAM5-ATLAng                ATLAM5-ATLAng     4.717552   \n",
      "2            ATLAM5-ATLAng                ATLAM5-ATLAng   109.013672   \n",
      "3            DNVRng-WASHng         DNVRng-ATLAM5-WASHng   274.534949   \n",
      "4            DNVRng-WASHng         DNVRng-ATLAM5-WASHng   190.897362   \n",
      "5            DNVRng-WASHng         DNVRng-ATLAM5-WASHng  2241.058846   \n",
      "6            HSTNng-NYCMng  HSTNng-SNVAng-ATLAM5-NYCMng   464.632235   \n",
      "7            HSTNng-NYCMng         HSTNng-ATLAM5-NYCMng    16.524972   \n",
      "8            HSTNng-NYCMng         HSTNng-ATLAM5-NYCMng   577.310531   \n",
      "9            IPLSng-STTLng         IPLSng-ATLAM5-STTLng   133.241572   \n",
      "10           IPLSng-STTLng         IPLSng-ATLAM5-STTLng    33.547566   \n",
      "11           IPLSng-STTLng         IPLSng-ATLAM5-STTLng   555.256769   \n",
      "12           KSCYng-SNVAng         KSCYng-ATLAM5-SNVAng    43.939165   \n",
      "13           KSCYng-SNVAng         KSCYng-ATLAM5-SNVAng    18.699540   \n",
      "14           KSCYng-SNVAng         KSCYng-ATLAM5-SNVAng   174.315700   \n",
      "15           LOSAng-ATLAng         LOSAng-ATLAM5-ATLAng   208.684858   \n",
      "16           LOSAng-ATLAng         LOSAng-ATLAM5-ATLAng    13.297026   \n",
      "17           LOSAng-ATLAng         LOSAng-ATLAM5-ATLAng  1277.034734   \n",
      "\n",
      "               Dataset  \n",
      "0            Real Data  \n",
      "1   GAN Synthetic Data  \n",
      "2   SDV Synthetic Data  \n",
      "3            Real Data  \n",
      "4   GAN Synthetic Data  \n",
      "5   SDV Synthetic Data  \n",
      "6            Real Data  \n",
      "7   GAN Synthetic Data  \n",
      "8   SDV Synthetic Data  \n",
      "9            Real Data  \n",
      "10  GAN Synthetic Data  \n",
      "11  SDV Synthetic Data  \n",
      "12           Real Data  \n",
      "13  GAN Synthetic Data  \n",
      "14  SDV Synthetic Data  \n",
      "15           Real Data  \n",
      "16  GAN Synthetic Data  \n",
      "17  SDV Synthetic Data  \n"
     ]
    }
   ],
   "source": [
    "print(path_load_df)"
   ]
  },
  {
   "cell_type": "code",
   "execution_count": 79,
   "metadata": {},
   "outputs": [
    {
     "data": {
      "image/png": "[encoded data removed]",
      "text/plain": [
       "<Figure size 1200x600 with 1 Axes>"
      ]
     },
     "metadata": {},
     "output_type": "display_data"
    }
   ],
   "source": [
    "plt.figure(figsize=(12, 6))\n",
    "sns.barplot(\n",
    "    data=path_load_df,\n",
    "    x=\"Source-Destination Pair\",\n",
    "    y=\"Total Load\",\n",
    "    hue=\"Dataset\")\n",
    "\n",
    "plt.xlabel(\"Source-Destination Pair\", fontsize=12)\n",
    "plt.ylabel(\"Total Load (Gbits/s)\", fontsize=12)\n",
    "plt.title(\"Total Load Comparison Across Datasets\", fontsize=14)\n",
    "plt.show()"
   ]
  }
 ],
 "metadata": {
  "kernelspec": {
   "display_name": "Python 3",
   "language": "python",
   "name": "python3"
  },
  "language_info": {
   "codemirror_mode": {
    "name": "ipython",
    "version": 3
   },
   "file_extension": ".py",
   "mimetype": "text/x-python",
   "name": "python",
   "nbconvert_exporter": "python",
   "pygments_lexer": "ipython3",
   "version": "3.12.0"
  }
 },
 "nbformat": 4,
 "nbformat_minor": 2
}
