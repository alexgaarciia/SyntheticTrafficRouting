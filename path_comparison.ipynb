{
 "cells": [
  {
   "cell_type": "code",
   "execution_count": 65,
   "metadata": {},
   "outputs": [],
   "source": [
    "import pandas as pd\n",
    "import networkx as nx\n",
    "import matplotlib.pyplot as plt"
   ]
  },
  {
   "cell_type": "markdown",
   "metadata": {},
   "source": [
    "## Load datasets"
   ]
  },
  {
   "cell_type": "code",
   "execution_count": 66,
   "metadata": {},
   "outputs": [],
   "source": [
    "combined_data = pd.read_csv(\"real_data.csv\", sep=\",\")\n",
    "synthetic_data_sdv = pd.read_csv(\"synthetic_data_sdv.csv\", sep=\",\")\n",
    "synthetic_data_gan = pd.read_csv(\"synthetic_data_gan.csv\", sep=\",\")"
   ]
  },
  {
   "cell_type": "markdown",
   "metadata": {},
   "source": [
    "## Take lowest demand value"
   ]
  },
  {
   "cell_type": "code",
   "execution_count": 67,
   "metadata": {},
   "outputs": [],
   "source": [
    "# Group by 'source' and 'target', then get the minimum 'demand_value' for each group\n",
    "min_demand_real = combined_data.loc[combined_data.groupby(['source', 'target'])['demand_value'].idxmin()]\n",
    "min_demand_gan = synthetic_data_gan.loc[synthetic_data_gan.groupby(['source', 'target'])['demand_value'].idxmin()]\n",
    "min_demand_sdv = synthetic_data_sdv.loc[synthetic_data_sdv.groupby(['source', 'target'])['demand_value'].idxmin()]"
   ]
  },
  {
   "cell_type": "code",
   "execution_count": 68,
   "metadata": {},
   "outputs": [],
   "source": [
    "# Filter out rows with same source and destination\n",
    "min_demand_gan = min_demand_gan[min_demand_gan[\"source\"] != min_demand_gan[\"target\"]]\n",
    "min_demand_sdv = min_demand_sdv[min_demand_sdv[\"source\"] != min_demand_sdv[\"target\"]]"
   ]
  },
  {
   "cell_type": "markdown",
   "metadata": {},
   "source": [
    "## Build graph "
   ]
  },
  {
   "cell_type": "code",
   "execution_count": 69,
   "metadata": {},
   "outputs": [],
   "source": [
    "def create_graph(data):\n",
    "    G = nx.Graph()\n",
    "    for index, row in data.iterrows():\n",
    "        G.add_edge(row['source'], row['target'], weight=row['demand_value'])\n",
    "    return G"
   ]
  },
  {
   "cell_type": "code",
   "execution_count": 70,
   "metadata": {},
   "outputs": [],
   "source": [
    "def plot_graph(G):\n",
    "    # Define layout for the graph (spring layout for better spacing)\n",
    "    pos = nx.spring_layout(G, seed=42)\n",
    "\n",
    "    # Draw nodes and edges\n",
    "    plt.figure(figsize=(12, 8))\n",
    "    nx.draw_networkx_nodes(G, pos, node_size=500, node_color='skyblue', edgecolors='k')\n",
    "    nx.draw_networkx_edges(G, pos, width=1.5, alpha=0.7, edge_color='gray')\n",
    "\n",
    "    # Add labels for nodes\n",
    "    nx.draw_networkx_labels(G, pos, font_size=10, font_color='black')\n",
    "\n",
    "    # Add edge weights as labels\n",
    "    edge_labels = nx.get_edge_attributes(G, 'weight')\n",
    "    nx.draw_networkx_edge_labels(G, pos, edge_labels=edge_labels, font_size=8, font_color='red')\n",
    "\n",
    "    # Customize plot appearance\n",
    "    plt.title(\"Network Graph with Shortest Path Demand Values\", fontsize=16)\n",
    "    plt.axis('off')\n",
    "    plt.show()  \n",
    "    "
   ]
  },
  {
   "cell_type": "markdown",
   "metadata": {},
   "source": [
    "## Find the shortest path from a source to a destination"
   ]
  },
  {
   "cell_type": "code",
   "execution_count": 71,
   "metadata": {},
   "outputs": [],
   "source": [
    "def calculate_shortest_path_load(G, source, target):\n",
    "    # Find the shortest path using Dijkstra's algorithm (based on demand values)\n",
    "    path = nx.shortest_path(G, source=source, target=target, weight='weight')\n",
    "    total_load = sum(G[u][v]['weight'] for u, v in zip(path[:-1], path[1:]))\n",
    "    return path, total_load"
   ]
  },
  {
   "cell_type": "markdown",
   "metadata": {},
   "source": [
    "## Testing"
   ]
  },
  {
   "cell_type": "code",
   "execution_count": 72,
   "metadata": {},
   "outputs": [],
   "source": [
    "# Create graphs\n",
    "G_real = create_graph(min_demand_real)\n",
    "G_gan = create_graph(min_demand_gan)\n",
    "G_sdv = create_graph(min_demand_sdv)"
   ]
  },
  {
   "cell_type": "code",
   "execution_count": null,
   "metadata": {},
   "outputs": [],
   "source": [
    "# Source and target nodes\n",
    "source_node = \"KSCYng\"\n",
    "target_node = \"HSTNng\"\n",
    "\n",
    "# Calculate and print shortest path loads\n",
    "for graph_name, graph in [(\"Real Data\", G_real), (\"GAN Synthetic Data\", G_gan), (\"SDV Synthetic Data\", G_sdv)]:\n",
    "    path, total_load = calculate_shortest_path_load(graph, source_node, target_node)\n",
    "    if path:\n",
    "        print(f\"{graph_name}: Shortest path from {source_node} to {target_node} is {path} with a total load of {total_load:.2f}\")\n",
    "    else:\n",
    "        print(f\"{graph_name}: No path exists from {source_node} to {target_node}\")"
   ]
  }
 ],
 "metadata": {
  "kernelspec": {
   "display_name": "Python 3",
   "language": "python",
   "name": "python3"
  },
  "language_info": {
   "codemirror_mode": {
    "name": "ipython",
    "version": 3
   },
   "file_extension": ".py",
   "mimetype": "text/x-python",
   "name": "python",
   "nbconvert_exporter": "python",
   "pygments_lexer": "ipython3",
   "version": "3.12.0"
  }
 },
 "nbformat": 4,
 "nbformat_minor": 2
}
