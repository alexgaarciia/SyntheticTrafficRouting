{
 "cells": [
  {
   "cell_type": "markdown",
   "metadata": {},
   "source": [
    "<a href=\"https://colab.research.google.com/github/alexgaarciia/SyntheticTrafficRouting/blob/main/path_comparison.ipynb\" target=\"_parent\"><img src=\"https://colab.research.google.com/assets/colab-badge.svg\" alt=\"Open In Colab\"/></a>"
   ]
  },
  {
   "cell_type": "markdown",
   "metadata": {},
   "source": [
    "## Imports"
   ]
  },
  {
   "cell_type": "code",
   "execution_count": 12,
   "metadata": {},
   "outputs": [
    {
     "name": "stdout",
     "output_type": "stream",
     "text": [
      "Not in Google Colab, skipping repository clone.\n"
     ]
    }
   ],
   "source": [
    "# Check if running in Google Colab\n",
    "try:\n",
    "    import google.colab\n",
    "    IN_COLAB = True\n",
    "except ImportError:\n",
    "    IN_COLAB = False\n",
    "\n",
    "# If in Google Colab, clone the repository\n",
    "if IN_COLAB:\n",
    "    !git clone https://github.com/alexgaarciia/SyntheticTrafficRouting.git\n",
    "    import os\n",
    "    os.chdir('SyntheticTrafficRouting/')\n",
    "    print(\"Repository cloned!\")\n",
    "else:\n",
    "    print(\"Not in Google Colab, skipping repository clone.\")"
   ]
  },
  {
   "cell_type": "code",
   "execution_count": 13,
   "metadata": {},
   "outputs": [],
   "source": [
    "import pandas as pd\n",
    "import networkx as nx\n",
    "import matplotlib.pyplot as plt\n",
    "from functions import rescale_demand"
   ]
  },
  {
   "cell_type": "markdown",
   "metadata": {},
   "source": [
    "## Load datasets"
   ]
  },
  {
   "cell_type": "code",
   "execution_count": 14,
   "metadata": {},
   "outputs": [],
   "source": [
    "combined_data = pd.read_csv(\"real_data.csv\", sep=\",\")\n",
    "synthetic_data_sdv = pd.read_csv(\"synthetic_data_sdv.csv\", sep=\",\")\n",
    "synthetic_data_gan = pd.read_csv(\"synthetic_data_gan.csv\", sep=\",\")"
   ]
  },
  {
   "cell_type": "markdown",
   "metadata": {},
   "source": [
    "## Rescale demand values"
   ]
  },
  {
   "cell_type": "code",
   "execution_count": 15,
   "metadata": {},
   "outputs": [],
   "source": [
    "# Mbits/s to Gbits/s\n",
    "combined_data[\"demand_value\"] = combined_data[\"demand_value\"]/1000\n",
    "synthetic_data_gan[\"demand_value\"] = synthetic_data_gan[\"demand_value\"]/1000\n",
    "synthetic_data_sdv[\"demand_value\"] = synthetic_data_sdv[\"demand_value\"]/1000\n",
    "\n",
    "# Scale datasets to reflect actual traffic demand\n",
    "growth_factor = (1 + 0.45) ** (2025 - 2004)\n",
    "combined_data = rescale_demand(combined_data, growth_factor)\n",
    "synthetic_data_gan = rescale_demand(synthetic_data_gan, growth_factor)\n",
    "synthetic_data_sdv = rescale_demand(synthetic_data_sdv, growth_factor)"
   ]
  },
  {
   "cell_type": "markdown",
   "metadata": {},
   "source": [
    "## Sum Demand Values for Each Source-Target Pair"
   ]
  },
  {
   "cell_type": "code",
   "execution_count": 16,
   "metadata": {},
   "outputs": [],
   "source": [
    "# Sum demand values for each source-target pair\n",
    "sum_demand_real = combined_data.groupby(['source', 'target'], as_index=False)['demand_value'].sum()\n",
    "sum_demand_gan = synthetic_data_gan.groupby(['source', 'target'], as_index=False)['demand_value'].sum()\n",
    "sum_demand_sdv = synthetic_data_sdv.groupby(['source', 'target'], as_index=False)['demand_value'].sum()"
   ]
  },
  {
   "cell_type": "code",
   "execution_count": 17,
   "metadata": {},
   "outputs": [],
   "source": [
    "# Filter out rows where source equals target\n",
    "sum_demand_gan = sum_demand_gan[sum_demand_gan[\"source\"] != sum_demand_gan[\"target\"]]\n",
    "sum_demand_sdv = sum_demand_sdv[sum_demand_sdv[\"source\"] != sum_demand_sdv[\"target\"]]"
   ]
  },
  {
   "cell_type": "markdown",
   "metadata": {},
   "source": [
    "## Build graph "
   ]
  },
  {
   "cell_type": "code",
   "execution_count": 18,
   "metadata": {},
   "outputs": [],
   "source": [
    "def create_graph(data):\n",
    "    G = nx.Graph()\n",
    "    for index, row in data.iterrows():\n",
    "        G.add_edge(row['source'], row['target'], weight=row['demand_value'])\n",
    "    return G"
   ]
  },
  {
   "cell_type": "code",
   "execution_count": 19,
   "metadata": {},
   "outputs": [],
   "source": [
    "def plot_graph(G):\n",
    "    # Define layout for the graph (spring layout for better spacing)\n",
    "    pos = nx.spring_layout(G, seed=42)\n",
    "\n",
    "    # Draw nodes and edges\n",
    "    plt.figure(figsize=(12, 8))\n",
    "    nx.draw_networkx_nodes(G, pos, node_size=500, node_color='skyblue', edgecolors='k')\n",
    "    nx.draw_networkx_edges(G, pos, width=1.5, alpha=0.7, edge_color='gray')\n",
    "\n",
    "    # Add labels for nodes\n",
    "    nx.draw_networkx_labels(G, pos, font_size=10, font_color='black')\n",
    "\n",
    "    # Add edge weights as labels\n",
    "    edge_labels = nx.get_edge_attributes(G, 'weight')\n",
    "    nx.draw_networkx_edge_labels(G, pos, edge_labels=edge_labels, font_size=8, font_color='red')\n",
    "\n",
    "    # Customize plot appearance\n",
    "    plt.title(\"Network Graph with Shortest Path Demand Values\", fontsize=16)\n",
    "    plt.axis('off')\n",
    "    plt.show()  \n",
    "    "
   ]
  },
  {
   "cell_type": "markdown",
   "metadata": {},
   "source": [
    "## Find the shortest path from a source to a destination"
   ]
  },
  {
   "cell_type": "code",
   "execution_count": 20,
   "metadata": {},
   "outputs": [],
   "source": [
    "def calculate_shortest_path_load(G, source, target):\n",
    "    # Find the shortest path using Dijkstra's algorithm (based on demand values)\n",
    "    path = nx.shortest_path(G, source=source, target=target, weight='weight')\n",
    "    total_load = sum(G[u][v]['weight'] for u, v in zip(path[:-1], path[1:]))\n",
    "    return path, total_load"
   ]
  },
  {
   "cell_type": "markdown",
   "metadata": {},
   "source": [
    "## Testing"
   ]
  },
  {
   "cell_type": "code",
   "execution_count": 21,
   "metadata": {},
   "outputs": [],
   "source": [
    "# Create graphs\n",
    "G_real = create_graph(sum_demand_real)\n",
    "G_gan = create_graph(sum_demand_gan)\n",
    "G_sdv = create_graph(sum_demand_sdv)"
   ]
  },
  {
   "cell_type": "code",
   "execution_count": 29,
   "metadata": {},
   "outputs": [
    {
     "name": "stdout",
     "output_type": "stream",
     "text": [
      "Real Data: Shortest path from LOSAng to ATLAng is ['LOSAng', 'ATLAM5', 'ATLAng'] with a total load of 208.68\n",
      "GAN Synthetic Data: Shortest path from LOSAng to ATLAng is ['LOSAng', 'ATLAM5', 'ATLAng'] with a total load of 13.30\n",
      "SDV Synthetic Data: Shortest path from LOSAng to ATLAng is ['LOSAng', 'ATLAM5', 'ATLAng'] with a total load of 1277.03\n"
     ]
    }
   ],
   "source": [
    "# Source and target nodes\n",
    "source_node = \"LOSAng\"\n",
    "target_node = \"ATLAng\"\n",
    "\n",
    "# Calculate and print shortest path loads\n",
    "for graph_name, graph in [(\"Real Data\", G_real), (\"GAN Synthetic Data\", G_gan), (\"SDV Synthetic Data\", G_sdv)]:\n",
    "    path, total_load = calculate_shortest_path_load(graph, source_node, target_node)\n",
    "    if path:\n",
    "        print(f\"{graph_name}: Shortest path from {source_node} to {target_node} is {path} with a total load of {total_load:.2f}\")\n",
    "    else:\n",
    "        print(f\"{graph_name}: No path exists from {source_node} to {target_node}\")"
   ]
  }
 ],
 "metadata": {
  "kernelspec": {
   "display_name": "Python 3",
   "language": "python",
   "name": "python3"
  },
  "language_info": {
   "codemirror_mode": {
    "name": "ipython",
    "version": 3
   },
   "file_extension": ".py",
   "mimetype": "text/x-python",
   "name": "python",
   "nbconvert_exporter": "python",
   "pygments_lexer": "ipython3",
   "version": "3.12.0"
  }
 },
 "nbformat": 4,
 "nbformat_minor": 2
}
