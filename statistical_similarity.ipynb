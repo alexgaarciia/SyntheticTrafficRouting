{
 "cells": [
  {
   "cell_type": "code",
   "execution_count": 6,
   "metadata": {},
   "outputs": [],
   "source": [
    "import pandas as pd\n",
    "from sdv.metadata import SingleTableMetadata\n",
    "from sdv.evaluation.single_table import evaluate_quality\n"
   ]
  },
  {
   "cell_type": "code",
   "execution_count": 10,
   "metadata": {},
   "outputs": [],
   "source": [
    "combined_data = pd.read_csv(\"real_data.csv\", sep=\",\")\n",
    "synthetic_data_sdv = pd.read_csv(\"synthetic_data_sdv.csv\", sep=\",\")\n",
    "synthetic_data_gan = pd.read_csv(\"synthetic_data_gan.csv\", sep=\",\")"
   ]
  },
  {
   "cell_type": "code",
   "execution_count": 8,
   "metadata": {},
   "outputs": [],
   "source": [
    "metadata = SingleTableMetadata()\n",
    "metadata.detect_from_dataframe(combined_data)"
   ]
  },
  {
   "cell_type": "markdown",
   "metadata": {},
   "source": [
    "## Measure the statistical similarity between real and synthetic data"
   ]
  },
  {
   "cell_type": "code",
   "execution_count": null,
   "metadata": {},
   "outputs": [
    {
     "name": "stdout",
     "output_type": "stream",
     "text": [
      "Generating report ...\n",
      "\n",
      "(1/2) Evaluating Column Shapes: |██████████| 3/3 [00:00<00:00, 90.81it/s]|\n",
      "Column Shapes Score: 92.77%\n",
      "\n",
      "(2/2) Evaluating Column Pair Trends: |██████████| 3/3 [00:00<00:00, 50.31it/s]|\n",
      "Column Pair Trends Score: 73.09%\n",
      "\n",
      "Overall Score (Average): 82.93%\n",
      "\n"
     ]
    }
   ],
   "source": [
    "# SDV\n",
    "quality_report = evaluate_quality(\n",
    "    combined_data,\n",
    "    synthetic_data_sdv,\n",
    "    metadata)"
   ]
  },
  {
   "cell_type": "code",
   "execution_count": 11,
   "metadata": {},
   "outputs": [
    {
     "name": "stdout",
     "output_type": "stream",
     "text": [
      "Generating report ...\n",
      "\n",
      "(1/2) Evaluating Column Shapes: |██████████| 3/3 [00:00<00:00, 85.51it/s]|\n",
      "Column Shapes Score: 91.81%\n",
      "\n",
      "(2/2) Evaluating Column Pair Trends: |██████████| 3/3 [00:00<00:00, 46.46it/s]|\n",
      "Column Pair Trends Score: 87.52%\n",
      "\n",
      "Overall Score (Average): 89.67%\n",
      "\n"
     ]
    }
   ],
   "source": [
    "# GAN\n",
    "quality_report2 = evaluate_quality(\n",
    "    combined_data,\n",
    "    synthetic_data_gan,\n",
    "    metadata)"
   ]
  }
 ],
 "metadata": {
  "kernelspec": {
   "display_name": "Python 3",
   "language": "python",
   "name": "python3"
  },
  "language_info": {
   "codemirror_mode": {
    "name": "ipython",
    "version": 3
   },
   "file_extension": ".py",
   "mimetype": "text/x-python",
   "name": "python",
   "nbconvert_exporter": "python",
   "pygments_lexer": "ipython3",
   "version": "3.12.0"
  }
 },
 "nbformat": 4,
 "nbformat_minor": 2
}
