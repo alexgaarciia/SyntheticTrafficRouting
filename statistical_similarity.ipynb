{
  "cells": [
    {
      "cell_type": "markdown",
      "metadata": {
        "id": "0DqLRQOiHk3l"
      },
      "source": [
        "# Imports"
      ]
    },
    {
      "cell_type": "code",
      "execution_count": null,
      "metadata": {
        "id": "87QDTW8QGPnp"
      },
      "outputs": [],
      "source": [
        "import pandas as pd\n",
        "import matplotlib.pyplot as plt\n",
        "import seaborn as sns\n",
        "from sdv.metadata import SingleTableMetadata\n",
        "from sdv.evaluation.single_table import evaluate_quality\n",
        "from sdv.evaluation.single_table import get_column_plot"
      ]
    },
    {
      "cell_type": "markdown",
      "metadata": {
        "id": "ZWoV_iQlHoj9"
      },
      "source": [
        "# Load real and synthetic data"
      ]
    },
    {
      "cell_type": "code",
      "execution_count": null,
      "metadata": {
        "id": "wS4qTksqGPnt"
      },
      "outputs": [],
      "source": [
        "combined_data = pd.read_csv(\"real_data.csv\", sep=\",\")\n",
        "synthetic_data_sdv = pd.read_csv(\"synthetic_data_sdv.csv\", sep=\",\")\n",
        "synthetic_data_gan = pd.read_csv(\"synthetic_data_gan.csv\", sep=\",\")"
      ]
    },
    {
      "cell_type": "code",
      "execution_count": null,
      "metadata": {
        "id": "v_HhIU39GPnu"
      },
      "outputs": [],
      "source": [
        "metadata = SingleTableMetadata()\n",
        "metadata.detect_from_dataframe(combined_data)"
      ]
    },
    {
      "cell_type": "markdown",
      "metadata": {
        "id": "CwAokEprGPnu"
      },
      "source": [
        "# Measure the statistical similarity between real and synthetic data"
      ]
    },
    {
      "cell_type": "markdown",
      "metadata": {
        "id": "L-XxfTvoHSBw"
      },
      "source": [
        "## SDV Generated Data"
      ]
    },
    {
      "cell_type": "code",
      "execution_count": null,
      "metadata": {
        "id": "RRObT1qbGPnw"
      },
      "outputs": [],
      "source": [
        "quality_report = evaluate_quality(\n",
        "    combined_data,\n",
        "    synthetic_data_sdv,\n",
        "    metadata)"
      ]
    },
    {
      "cell_type": "code",
      "execution_count": null,
      "metadata": {
        "id": "eja06JyiGk-A"
      },
      "outputs": [],
      "source": [
        "fig = get_column_plot(\n",
        "    real_data=combined_data,\n",
        "    synthetic_data=synthetic_data_sdv,\n",
        "    column_name='source',\n",
        "    metadata=metadata\n",
        ")\n",
        "\n",
        "fig.show()"
      ]
    },
    {
      "cell_type": "code",
      "execution_count": null,
      "metadata": {
        "id": "OrW1ZgiHGyLM"
      },
      "outputs": [],
      "source": [
        "fig = get_column_plot(\n",
        "    real_data=combined_data,\n",
        "    synthetic_data=synthetic_data_sdv,\n",
        "    column_name='target',\n",
        "    metadata=metadata\n",
        ")\n",
        "\n",
        "fig.show()"
      ]
    },
    {
      "cell_type": "markdown",
      "metadata": {
        "id": "gpp4FNUHHYpg"
      },
      "source": [
        "## GAN Generated Data"
      ]
    },
    {
      "cell_type": "code",
      "execution_count": null,
      "metadata": {
        "id": "jxEVYtTYGPny"
      },
      "outputs": [],
      "source": [
        "quality_report2 = evaluate_quality(\n",
        "    combined_data,\n",
        "    synthetic_data_gan,\n",
        "    metadata)"
      ]
    },
    {
      "cell_type": "code",
      "execution_count": null,
      "metadata": {
        "id": "ddOQmg55G5Vi"
      },
      "outputs": [],
      "source": [
        "fig = get_column_plot(\n",
        "    real_data=combined_data,\n",
        "    synthetic_data=synthetic_data_gan,\n",
        "    column_name='source',\n",
        "    metadata=metadata\n",
        ")\n",
        "\n",
        "fig.show()"
      ]
    },
    {
      "cell_type": "code",
      "execution_count": null,
      "metadata": {
        "id": "hiD-7EeUG7xS"
      },
      "outputs": [],
      "source": [
        "fig = get_column_plot(\n",
        "    real_data=combined_data,\n",
        "    synthetic_data=synthetic_data_gan,\n",
        "    column_name='target',\n",
        "    metadata=metadata\n",
        ")\n",
        "\n",
        "fig.show()"
      ]
    },
    {
      "cell_type": "markdown",
      "metadata": {
        "id": "tOIaowgwypnd"
      },
      "source": [
        "# Link load comparison"
      ]
    },
    {
      "cell_type": "markdown",
      "metadata": {
        "id": "s1sfCyDOypnd"
      },
      "source": [
        "To further extent the comparison between the real data and the synthetic data, we want to see how much does the link load (demand_value) varies between these two.\n",
        "\n",
        "To do so, we will follow this approach:\n",
        "1. For each dataset (real and synthetic), we will create a new dataset that stores, for each unique source-destination pair, the total link load. This is computed by summing up the demand value for each unique pair.\n",
        "2. Calculate the absolute and relative difference in link loads.\n",
        "\n",
        "$$\n",
        "AD = |y - \\hat{y}|\n",
        "$$\n",
        "\n",
        "$$\n",
        "RD = \\left| \\frac{y - \\hat{y}}{y} \\right|\n",
        "$$"
      ]
    },
    {
      "cell_type": "code",
      "execution_count": null,
      "metadata": {
        "id": "-CTKOFFHypnd"
      },
      "outputs": [],
      "source": [
        "# Group by source and target\n",
        "real_clean = combined_data.groupby([\"source\", \"target\"])[\"demand_value\"].sum().reset_index()\n",
        "synthetic_gan_clean = synthetic_data_gan.groupby([\"source\", \"target\"])[\"demand_value\"].sum().reset_index()\n",
        "synthetic_sdv_clean = synthetic_data_sdv.groupby([\"source\", \"target\"])[\"demand_value\"].sum().reset_index()"
      ]
    },
    {
      "cell_type": "code",
      "execution_count": null,
      "metadata": {
        "id": "yZEIFa4pypnd"
      },
      "outputs": [],
      "source": [
        "# Filter out rows with same source and destination\n",
        "synthetic_gan_clean = synthetic_gan_clean[synthetic_gan_clean[\"source\"] != synthetic_gan_clean[\"target\"]]\n",
        "synthetic_sdv_clean = synthetic_sdv_clean[synthetic_sdv_clean[\"source\"] != synthetic_sdv_clean[\"target\"]]"
      ]
    },
    {
      "cell_type": "code",
      "execution_count": null,
      "metadata": {
        "id": "Do27vXwSypne"
      },
      "outputs": [],
      "source": [
        "# Merge datasets\n",
        "df_comparison_temp = pd.merge(real_clean, synthetic_gan_clean,\n",
        "                         on=[\"source\", \"target\"],\n",
        "                         how=\"outer\",\n",
        "                         suffixes=(\"_real\", \"_gan\")).fillna(0)\n",
        "\n",
        "df_comparison = pd.merge(df_comparison_temp, synthetic_sdv_clean,\n",
        "                         on=[\"source\", \"target\"],\n",
        "                         how=\"outer\").fillna(0)\n",
        "\n",
        "df_comparison.rename(columns={\"demand_value\": \"demand_value_sdv\"}, inplace=True)"
      ]
    },
    {
      "cell_type": "code",
      "execution_count": null,
      "metadata": {
        "id": "3o4eZyGYypne"
      },
      "outputs": [],
      "source": [
        "# Calculate the absolute and relative differences\n",
        "df_comparison[\"abs_diff_gan\"] = abs(\n",
        "    df_comparison[\"demand_value_real\"] - df_comparison[\"demand_value_gan\"])\n",
        "df_comparison[\"rel_diff_gan\"] = df_comparison[\"abs_diff_gan\"] / df_comparison[\"demand_value_real\"]\n",
        "\n",
        "df_comparison[\"abs_diff_sdv\"] = abs(\n",
        "    df_comparison[\"demand_value_real\"] - df_comparison[\"demand_value_sdv\"])\n",
        "df_comparison[\"rel_diff_sdv\"] = df_comparison[\"abs_diff_sdv\"] / df_comparison[\"demand_value_real\"]"
      ]
    },
    {
      "cell_type": "code",
      "execution_count": null,
      "metadata": {
        "id": "5_txE_qWypne"
      },
      "outputs": [],
      "source": [
        "df_comparison"
      ]
    },
    {
      "cell_type": "code",
      "execution_count": null,
      "metadata": {
        "id": "xleqhl99ypnf"
      },
      "outputs": [],
      "source": [
        "mad_gan = df_comparison['abs_diff_gan'].mean()\n",
        "mrd_gan = df_comparison['rel_diff_gan'].mean()\n",
        "print(f\"Mean Absolute Difference (GAN): {mad_gan}\")\n",
        "print(f\"Mean Relative Difference (GAN): {mrd_gan}\")\n",
        "print()\n",
        "\n",
        "mad_sdv = df_comparison['abs_diff_sdv'].mean()\n",
        "mrd_sdv = df_comparison['rel_diff_sdv'].mean()\n",
        "print(f\"Mean Absolute Difference (SDV): {mad_sdv}\")\n",
        "print(f\"Mean Relative Difference (SDV): {mrd_sdv}\")"
      ]
    },
    {
      "cell_type": "code",
      "execution_count": null,
      "metadata": {
        "id": "BAVJw4eSypng"
      },
      "outputs": [],
      "source": [
        "# Set the style for the plots\n",
        "sns.set(style=\"whitegrid\")\n",
        "\n",
        "# Create a figure and axis object\n",
        "plt.figure(figsize=(12, 6))\n",
        "\n",
        "# Plot the density for 'demand_value' from real and synthetic data\n",
        "sns.kdeplot(combined_data['demand_value'], color='blue', label='Real Data', linewidth=2)\n",
        "sns.kdeplot(synthetic_data_sdv['demand_value'], color='green', label='Synthetic Data (SDV)', linewidth=2)\n",
        "sns.kdeplot(synthetic_data_gan['demand_value'], color='red', label='Synthetic Data (GAN)', linewidth=2)\n",
        "\n",
        "# Add labels and title\n",
        "plt.xlim(0, 200)\n",
        "plt.title('Density of Demand Values', fontsize=16)\n",
        "plt.xlabel('Demand Value', fontsize=14)\n",
        "plt.ylabel('Density', fontsize=14)\n",
        "plt.legend()\n",
        "plt.show()"
      ]
    },
    {
      "cell_type": "markdown",
      "metadata": {
        "id": "7nrz1kshypng"
      },
      "source": [
        "# Lowest link load comparison"
      ]
    },
    {
      "cell_type": "code",
      "execution_count": null,
      "metadata": {
        "id": "r9J3sE-Zypng"
      },
      "outputs": [],
      "source": [
        "# Group by 'source' and 'target', then get the minimum 'demand_value' for each group\n",
        "min_demand_real = combined_data.loc[combined_data.groupby(['source', 'target'])['demand_value'].idxmin()]\n",
        "min_demand_gan = synthetic_data_gan.loc[synthetic_data_gan.groupby(['source', 'target'])['demand_value'].idxmin()]\n",
        "min_demand_sdv = synthetic_data_sdv.loc[synthetic_data_sdv.groupby(['source', 'target'])['demand_value'].idxmin()]"
      ]
    },
    {
      "cell_type": "code",
      "execution_count": null,
      "metadata": {
        "id": "LVWWCKULypnh"
      },
      "outputs": [],
      "source": [
        "# Filter out rows with same source and destination\n",
        "min_demand_gan = min_demand_gan[min_demand_gan[\"source\"] != min_demand_gan[\"target\"]]\n",
        "min_demand_sdv = min_demand_sdv[min_demand_sdv[\"source\"] != min_demand_sdv[\"target\"]]"
      ]
    },
    {
      "cell_type": "code",
      "execution_count": null,
      "metadata": {
        "id": "nBZxZ86eypnh"
      },
      "outputs": [],
      "source": [
        "# Merge datasets\n",
        "df_min_comparison_temp = pd.merge(min_demand_real, min_demand_gan,\n",
        "                         on=[\"source\", \"target\"],\n",
        "                         how=\"outer\",\n",
        "                         suffixes=(\"_min_real\", \"_min_gan\")).fillna(0)\n",
        "\n",
        "df_min_comparison = pd.merge(df_min_comparison_temp, min_demand_sdv,\n",
        "                         on=[\"source\", \"target\"],\n",
        "                         how=\"outer\").fillna(0)\n",
        "\n",
        "df_min_comparison.rename(columns={\"demand_value\": \"demand_value_min_sdv\"}, inplace=True)"
      ]
    },
    {
      "cell_type": "code",
      "execution_count": null,
      "metadata": {
        "id": "tZNvOcl-ypnh"
      },
      "outputs": [],
      "source": [
        "# Calculate the absolute and relative differences\n",
        "df_min_comparison[\"abs_diff_gan\"] = abs(\n",
        "    df_min_comparison[\"demand_value_min_real\"] - df_min_comparison[\"demand_value_min_gan\"])\n",
        "df_min_comparison[\"rel_diff_gan\"] = df_min_comparison[\"abs_diff_gan\"] / df_min_comparison[\"demand_value_min_real\"]\n",
        "\n",
        "df_min_comparison[\"abs_diff_sdv\"] = abs(\n",
        "    df_min_comparison[\"demand_value_min_real\"] - df_min_comparison[\"demand_value_min_sdv\"])\n",
        "df_min_comparison[\"rel_diff_sdv\"] = df_min_comparison[\"abs_diff_sdv\"] / df_min_comparison[\"demand_value_min_real\"]"
      ]
    },
    {
      "cell_type": "code",
      "execution_count": null,
      "metadata": {
        "id": "ZSVBrUkeypnh"
      },
      "outputs": [],
      "source": [
        "df_min_comparison"
      ]
    },
    {
      "cell_type": "code",
      "execution_count": null,
      "metadata": {
        "id": "ONL9xMXnypnh"
      },
      "outputs": [],
      "source": [
        "mad_gan = df_min_comparison['abs_diff_gan'].mean()\n",
        "mrd_gan = df_min_comparison['rel_diff_gan'].mean()\n",
        "print(f\"Mean Absolute Difference (GAN): {mad_gan}\")\n",
        "print(f\"Mean Relative Difference (GAN): {mrd_gan}\")\n",
        "print()\n",
        "\n",
        "mad_sdv = df_min_comparison['abs_diff_sdv'].mean()\n",
        "mrd_sdv = df_min_comparison['rel_diff_sdv'].mean()\n",
        "print(f\"Mean Absolute Difference (SDV): {mad_sdv}\")\n",
        "print(f\"Mean Relative Difference (SDV): {mrd_sdv}\")"
      ]
    }
  ],
  "metadata": {
    "colab": {
      "provenance": []
    },
    "kernelspec": {
      "display_name": "Python 3",
      "language": "python",
      "name": "python3"
    },
    "language_info": {
      "codemirror_mode": {
        "name": "ipython",
        "version": 3
      },
      "file_extension": ".py",
      "mimetype": "text/x-python",
      "name": "python",
      "nbconvert_exporter": "python",
      "pygments_lexer": "ipython3",
      "version": "3.12.0"
    }
  },
  "nbformat": 4,
  "nbformat_minor": 0
}