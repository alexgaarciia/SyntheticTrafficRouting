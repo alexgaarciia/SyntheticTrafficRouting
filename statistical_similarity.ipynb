{
 "cells": [
  {
   "cell_type": "markdown",
   "metadata": {
    "id": "0DqLRQOiHk3l"
   },
   "source": [
    "# Imports"
   ]
  },
  {
   "cell_type": "code",
   "execution_count": null,
   "metadata": {
    "id": "87QDTW8QGPnp"
   },
   "outputs": [],
   "source": [
    "import pandas as pd\n",
    "from sdv.metadata import SingleTableMetadata\n",
    "from sdv.evaluation.single_table import evaluate_quality\n",
    "from sdv.evaluation.single_table import get_column_plot"
   ]
  },
  {
   "cell_type": "markdown",
   "metadata": {
    "id": "ZWoV_iQlHoj9"
   },
   "source": [
    "# Load real and synthetic data"
   ]
  },
  {
   "cell_type": "code",
   "execution_count": null,
   "metadata": {
    "id": "wS4qTksqGPnt"
   },
   "outputs": [],
   "source": [
    "combined_data = pd.read_csv(\"real_data.csv\", sep=\",\")\n",
    "synthetic_data_sdv = pd.read_csv(\"synthetic_data_sdv.csv\", sep=\",\")\n",
    "synthetic_data_gan = pd.read_csv(\"synthetic_data_gan.csv\", sep=\",\")"
   ]
  },
  {
   "cell_type": "code",
   "execution_count": null,
   "metadata": {
    "id": "v_HhIU39GPnu"
   },
   "outputs": [],
   "source": [
    "metadata = SingleTableMetadata()\n",
    "metadata.detect_from_dataframe(combined_data)"
   ]
  },
  {
   "cell_type": "markdown",
   "metadata": {
    "id": "CwAokEprGPnu"
   },
   "source": [
    "# Measure the statistical similarity between real and synthetic data"
   ]
  },
  {
   "cell_type": "markdown",
   "metadata": {
    "id": "L-XxfTvoHSBw"
   },
   "source": [
    "## SDV Generated Data"
   ]
  },
  {
   "cell_type": "code",
   "execution_count": null,
   "metadata": {
    "colab": {
     "base_uri": "https://localhost:8080/"
    },
    "id": "RRObT1qbGPnw",
    "outputId": "661eb60b-9aea-4b24-c166-58910469b52e"
   },
   "outputs": [],
   "source": [
    "quality_report = evaluate_quality(\n",
    "    combined_data,\n",
    "    synthetic_data_sdv,\n",
    "    metadata)"
   ]
  },
  {
   "cell_type": "code",
   "execution_count": null,
   "metadata": {
    "colab": {
     "base_uri": "https://localhost:8080/",
     "height": 542
    },
    "id": "eja06JyiGk-A",
    "outputId": "70561166-76c9-4430-8e66-7e56d646af58"
   },
   "outputs": [],
   "source": [
    "fig = get_column_plot(\n",
    "    real_data=combined_data,\n",
    "    synthetic_data=synthetic_data_sdv,\n",
    "    column_name='source',\n",
    "    metadata=metadata\n",
    ")\n",
    "\n",
    "fig.show()"
   ]
  },
  {
   "cell_type": "code",
   "execution_count": null,
   "metadata": {
    "colab": {
     "base_uri": "https://localhost:8080/",
     "height": 542
    },
    "id": "OrW1ZgiHGyLM",
    "outputId": "b628ec7f-591e-49da-8ee8-2a868c6658c1"
   },
   "outputs": [],
   "source": [
    "fig = get_column_plot(\n",
    "    real_data=combined_data,\n",
    "    synthetic_data=synthetic_data_sdv,\n",
    "    column_name='target',\n",
    "    metadata=metadata\n",
    ")\n",
    "\n",
    "fig.show()"
   ]
  },
  {
   "cell_type": "markdown",
   "metadata": {
    "id": "gpp4FNUHHYpg"
   },
   "source": [
    "## GAN Generated Data"
   ]
  },
  {
   "cell_type": "code",
   "execution_count": null,
   "metadata": {
    "colab": {
     "base_uri": "https://localhost:8080/"
    },
    "id": "jxEVYtTYGPny",
    "outputId": "e028c35b-fb1e-414f-a470-bfb2cfa1a044"
   },
   "outputs": [],
   "source": [
    "quality_report2 = evaluate_quality(\n",
    "    combined_data,\n",
    "    synthetic_data_gan,\n",
    "    metadata)"
   ]
  },
  {
   "cell_type": "code",
   "execution_count": null,
   "metadata": {
    "colab": {
     "base_uri": "https://localhost:8080/",
     "height": 542
    },
    "id": "ddOQmg55G5Vi",
    "outputId": "62e641af-b78b-4fe6-b949-e13a5c3753eb"
   },
   "outputs": [],
   "source": [
    "fig = get_column_plot(\n",
    "    real_data=combined_data,\n",
    "    synthetic_data=synthetic_data_gan,\n",
    "    column_name='source',\n",
    "    metadata=metadata\n",
    ")\n",
    "\n",
    "fig.show()"
   ]
  },
  {
   "cell_type": "code",
   "execution_count": null,
   "metadata": {
    "colab": {
     "base_uri": "https://localhost:8080/",
     "height": 542
    },
    "id": "hiD-7EeUG7xS",
    "outputId": "aba2a7cc-0baa-4cc6-fe74-3a3091c7fd24"
   },
   "outputs": [],
   "source": [
    "fig = get_column_plot(\n",
    "    real_data=combined_data,\n",
    "    synthetic_data=synthetic_data_gan,\n",
    "    column_name='target',\n",
    "    metadata=metadata\n",
    ")\n",
    "\n",
    "fig.show()"
   ]
  }
 ],
 "metadata": {
  "colab": {
   "provenance": []
  },
  "kernelspec": {
   "display_name": "Python 3",
   "language": "python",
   "name": "python3"
  },
  "language_info": {
   "codemirror_mode": {
    "name": "ipython",
    "version": 3
   },
   "file_extension": ".py",
   "mimetype": "text/x-python",
   "name": "python",
   "nbconvert_exporter": "python",
   "pygments_lexer": "ipython3",
   "version": "3.12.0"
  }
 },
 "nbformat": 4,
 "nbformat_minor": 0
}
