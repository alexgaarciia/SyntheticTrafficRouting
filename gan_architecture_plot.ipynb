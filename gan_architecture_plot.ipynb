{
 "cells": [
  {
   "cell_type": "code",
   "execution_count": 3,
   "metadata": {},
   "outputs": [],
   "source": [
    "import matplotlib.pyplot as plt\n",
    "from matplotlib.patches import Rectangle"
   ]
  },
  {
   "cell_type": "code",
   "execution_count": 4,
   "metadata": {},
   "outputs": [],
   "source": [
    "def draw_gan_structure():\n",
    "    # Create figure and axes\n",
    "    fig, ax = plt.subplots(figsize=(12, 8))\n",
    "\n",
    "    # Generator\n",
    "    ax.add_patch(Rectangle((0.1, 0.6), 0.16, 0.1, edgecolor='blue', facecolor='lightblue', label=\"Generator Layer\"))\n",
    "    ax.text(0.18, 0.65, \"Noise Input\\n(z)\", ha='center', va='center', fontsize=10)\n",
    "\n",
    "    ax.add_patch(Rectangle((0.4, 0.6), 0.16, 0.1, edgecolor='blue', facecolor='lightblue'))\n",
    "    ax.text(0.48, 0.65, \"Hidden Layer\\n(Dense, ReLU)\", ha='center', va='center', fontsize=10)\n",
    "\n",
    "    ax.add_patch(Rectangle((0.7, 0.6), 0.16, 0.1, edgecolor='blue', facecolor='lightblue'))\n",
    "    ax.text(0.78, 0.65, \"Output Layer\\n(Generated Data)\", ha='center', va='center', fontsize=10)\n",
    "\n",
    "    # Arrows for Generator \n",
    "    ax.arrow(0.26, 0.65, 0.12, 0, head_width=0.02, head_length=0.02, fc='black', ec='black')\n",
    "    ax.arrow(0.56, 0.65, 0.12, 0, head_width=0.02, head_length=0.02, fc='black', ec='black')\n",
    "\n",
    "    # Discriminator\n",
    "    ax.add_patch(Rectangle((0.1, 0.4), 0.16, 0.1, edgecolor='green', facecolor='lightgreen', label=\"Discriminator Layer\"))  # Adjusted y position here\n",
    "    ax.text(0.18, 0.45, \"Input Data\\n(Real/Synthetic)\", ha='center', va='center', fontsize=10)\n",
    "\n",
    "    ax.add_patch(Rectangle((0.4, 0.4), 0.16, 0.1, edgecolor='green', facecolor='lightgreen'))\n",
    "    ax.text(0.48, 0.45, \"Hidden Layer\\n(Dense, Leaky ReLU)\", ha='center', va='center', fontsize=10)\n",
    "\n",
    "    ax.add_patch(Rectangle((0.7, 0.4), 0.16, 0.1, edgecolor='green', facecolor='lightgreen'))\n",
    "    ax.text(0.78, 0.45, \"Output Layer\\n(Real/Fake Decision)\", ha='center', va='center', fontsize=10)\n",
    "\n",
    "    # Arrows for Discriminator \n",
    "    ax.arrow(0.26, 0.45, 0.12, 0, head_width=0.02, head_length=0.02, fc='black', ec='black')\n",
    "    ax.arrow(0.56, 0.45, 0.12, 0, head_width=0.02, head_length=0.02, fc='black', ec='black')\n",
    "\n",
    "    # Styling\n",
    "    ax.set_xlim(0, 1)\n",
    "    ax.set_ylim(0, 1)\n",
    "    ax.axis('off')\n",
    "\n",
    "    plt.legend(loc='upper left', bbox_to_anchor=(0.05, 0.9))\n",
    "    plt.show()"
   ]
  },
  {
   "cell_type": "code",
   "execution_count": null,
   "metadata": {},
   "outputs": [],
   "source": [
    "draw_gan_structure()"
   ]
  }
 ],
 "metadata": {
  "kernelspec": {
   "display_name": "Python 3",
   "language": "python",
   "name": "python3"
  },
  "language_info": {
   "codemirror_mode": {
    "name": "ipython",
    "version": 3
   },
   "file_extension": ".py",
   "mimetype": "text/x-python",
   "name": "python",
   "nbconvert_exporter": "python",
   "pygments_lexer": "ipython3",
   "version": "3.12.0"
  }
 },
 "nbformat": 4,
 "nbformat_minor": 2
}
