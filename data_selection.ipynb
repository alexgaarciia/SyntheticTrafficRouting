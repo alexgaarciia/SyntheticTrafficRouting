{
 "cells": [
  {
   "cell_type": "markdown",
   "metadata": {},
   "source": [
    "## Data Source\n",
    "The data used in this notebook is the abilene dataset, which can be found [here](https://sndlib.put.poznan.pl/home.action?show=/abilene.overview.action%3Fframeset).\n"
   ]
  },
  {
   "cell_type": "markdown",
   "metadata": {},
   "source": [
    "## Imports"
   ]
  },
  {
   "cell_type": "code",
   "execution_count": 15,
   "metadata": {},
   "outputs": [],
   "source": [
    "import os\n",
    "import shutil"
   ]
  },
  {
   "cell_type": "markdown",
   "metadata": {},
   "source": [
    "## Save only the files for 11AM"
   ]
  },
  {
   "cell_type": "code",
   "execution_count": null,
   "metadata": {},
   "outputs": [],
   "source": [
    "# Define source and destination folder paths\n",
    "source_folder = \"directed-abilene-zhang-5min-over-6months-ALL\"\n",
    "destination_folder = \"data11AM\"\n",
    "\n",
    "# Create the destination folder if it doesn't exist\n",
    "os.makedirs(destination_folder, exist_ok=True)\n",
    "\n",
    "# Copy files to the destination folder\n",
    "files = os.listdir(source_folder)  # All of the original files\n",
    "for file in files:\n",
    "    if \"1100\" in file:\n",
    "        source_file = os.path.join(source_folder, file)\n",
    "        if os.path.exists(source_file):\n",
    "            shutil.copy(source_file, destination_folder)"
   ]
  }
 ],
 "metadata": {
  "kernelspec": {
   "display_name": "Python 3",
   "language": "python",
   "name": "python3"
  },
  "language_info": {
   "codemirror_mode": {
    "name": "ipython",
    "version": 3
   },
   "file_extension": ".py",
   "mimetype": "text/x-python",
   "name": "python",
   "nbconvert_exporter": "python",
   "pygments_lexer": "ipython3",
   "version": "3.11.9"
  }
 },
 "nbformat": 4,
 "nbformat_minor": 2
}
